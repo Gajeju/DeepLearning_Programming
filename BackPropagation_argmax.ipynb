{
 "cells": [
  {
   "cell_type": "code",
   "execution_count": 24,
   "metadata": {},
   "outputs": [
    {
     "name": "stdout",
     "output_type": "stream",
     "text": [
      "[[86 37 50 16]\n",
      " [52 15 15 57]\n",
      " [37 34 79 19]\n",
      " [98 86 12 25]]\n",
      "axis = 0 [3 3 2 1]\n",
      "axis = 1 [0 3 2 0]\n",
      "\n",
      "[[54 80 59 11]\n",
      " [95 59 60 84]\n",
      " [53 67 52 21]\n",
      " [57 83 34 97]]\n",
      "axis = 0 [1 3 1 3]\n",
      "axis = 1 [1 0 1 3]\n",
      "\n",
      "[[50 97 64 12]\n",
      " [45  3 10 48]\n",
      " [82 12 53 71]\n",
      " [58 25 25  8]]\n",
      "axis = 0 [2 0 0 2]\n",
      "axis = 1 [1 3 0 0]\n",
      "\n"
     ]
    }
   ],
   "source": [
    "import numpy as np\n",
    "\n",
    "for i in range(3):\n",
    "    X = np.random.randint(1, 100, size=(4,4))\n",
    "    print(X)\n",
    "    print('axis = 0',np.argmax(X, axis=0))\n",
    "    print('axis = 1',np.argmax(X, axis=1))\n",
    "    print()"
   ]
  },
  {
   "cell_type": "code",
   "execution_count": null,
   "metadata": {},
   "outputs": [],
   "source": []
  },
  {
   "cell_type": "code",
   "execution_count": null,
   "metadata": {},
   "outputs": [],
   "source": []
  }
 ],
 "metadata": {
  "kernelspec": {
   "display_name": "Python 3",
   "language": "python",
   "name": "python3"
  },
  "language_info": {
   "codemirror_mode": {
    "name": "ipython",
    "version": 3
   },
   "file_extension": ".py",
   "mimetype": "text/x-python",
   "name": "python",
   "nbconvert_exporter": "python",
   "pygments_lexer": "ipython3",
   "version": "3.8.3"
  }
 },
 "nbformat": 4,
 "nbformat_minor": 4
}
