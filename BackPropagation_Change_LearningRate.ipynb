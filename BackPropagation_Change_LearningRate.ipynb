{
 "cells": [
  {
   "cell_type": "code",
   "execution_count": 19,
   "metadata": {},
   "outputs": [
    {
     "data": {
      "text/plain": [
       "[<matplotlib.lines.Line2D at 0x1c2def61d90>]"
      ]
     },
     "execution_count": 19,
     "metadata": {},
     "output_type": "execute_result"
    },
    {
     "data": {
      "image/png": "[encoded data removed]",
      "text/plain": [
       "<Figure size 432x288 with 1 Axes>"
      ]
     },
     "metadata": {
      "needs_background": "light"
     },
     "output_type": "display_data"
    }
   ],
   "source": [
    "import sys, os\n",
    "sys.path.append(os.pardir)\n",
    "import numpy as np\n",
    "from dataset.mnist import load_mnist\n",
    "import import_ipynb\n",
    "from BackPropagation_TwoLayerNet import TwoLayerNet\n",
    "import matplotlib.pylab as plt\n",
    "\n",
    "(x_train, t_train), (x_test, t_test) = load_mnist(normalize=True, one_hot_label=True)\n",
    "network1 = TwoLayerNet(input_size=784, hidden_size=50, output_size=10)\n",
    "network2 = TwoLayerNet(input_size=784, hidden_size=50, output_size=10)\n",
    "\n",
    "iters_num = 10000\n",
    "train_size = x_train.shape[0]\n",
    "batch_size = 100\n",
    "learning_rate1 = 0.05\n",
    "learning_rate2 = 0.2\n",
    "\n",
    "\n",
    "train_loss_list_1 = []\n",
    "train_acc_list_1 = []\n",
    "test_acc_list_1 = []\n",
    "\n",
    "train_loss_list_2 = []\n",
    "train_acc_list_2 = []\n",
    "test_acc_list_2 = []\n",
    "\n",
    "iter_per_epoch = max(train_size / batch_size, 1)\n",
    "\n",
    "for i in range(iters_num):\n",
    "    batch_mask = np.random.choice(train_size, batch_size)\n",
    "    x_batch = x_train[batch_mask]\n",
    "    t_batch = t_train[batch_mask]\n",
    "    \n",
    "    grad1 = network1.gradient(x_batch, t_batch)\n",
    "    grad2 = network2.gradient(x_batch, t_batch)\n",
    "    \n",
    "    for key in ('W1', 'b1', 'W2', 'b2'):\n",
    "        network1.params[key] -= learning_rate_1 * grad1[key]\n",
    "        network2.params[key] -= learning_rate_2 * grad2[key]\n",
    "    \n",
    "    loss_1 = network1.loss(x_batch, t_batch)\n",
    "    loss_2 = network2.loss(x_batch, t_batch)\n",
    "    \n",
    "    if i % iter_per_epoch == 0:\n",
    "        train_acc_1 = network1.accuracy(x_train, t_train)\n",
    "        test_acc_1 = network1.accuracy(x_test, t_test)\n",
    "        train_acc_list_1.append(train_acc_1)\n",
    "        test_acc_list_1.append(test_acc_1)\n",
    "        \n",
    "        train_acc_2 = network2.accuracy(x_train, t_train)\n",
    "        test_acc_2 = network2.accuracy(x_test, t_test)\n",
    "        train_acc_list_2.append(train_acc_2)\n",
    "        test_acc_list_2.append(test_acc_2)\n",
    "        \n",
    "        \n",
    "x = np.array([0, 1, 2, 3, 4, 5, 6, 7, 8, 9, 10, 11, 12, 13, 14, 15, 16])\n",
    "plt.plot(x, test_acc_list_1)\n",
    "plt.plot(x, test_acc_list_2)"
   ]
  },
  {
   "cell_type": "code",
   "execution_count": null,
   "metadata": {},
   "outputs": [],
   "source": []
  },
  {
   "cell_type": "code",
   "execution_count": null,
   "metadata": {},
   "outputs": [],
   "source": []
  }
 ],
 "metadata": {
  "kernelspec": {
   "display_name": "Python 3",
   "language": "python",
   "name": "python3"
  },
  "language_info": {
   "codemirror_mode": {
    "name": "ipython",
    "version": 3
   },
   "file_extension": ".py",
   "mimetype": "text/x-python",
   "name": "python",
   "nbconvert_exporter": "python",
   "pygments_lexer": "ipython3",
   "version": "3.8.3"
  }
 },
 "nbformat": 4,
 "nbformat_minor": 4
}
