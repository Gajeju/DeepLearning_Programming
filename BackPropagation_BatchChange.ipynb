{
 "cells": [
  {
   "cell_type": "code",
   "execution_count": 6,
   "metadata": {},
   "outputs": [
    {
     "name": "stdout",
     "output_type": "stream",
     "text": [
      "step:    0\tTrain acc: 0.10587\tTest acc: 0.10950\n",
      "step: 1200\tTrain acc: 0.92205\tTest acc: 0.92560\n",
      "step: 2400\tTrain acc: 0.94588\tTest acc: 0.94510\n",
      "step: 3600\tTrain acc: 0.95623\tTest acc: 0.95310\n",
      "step: 4800\tTrain acc: 0.96252\tTest acc: 0.95750\n",
      "step: 6000\tTrain acc: 0.96942\tTest acc: 0.96430\n",
      "step: 7200\tTrain acc: 0.97037\tTest acc: 0.96400\n",
      "step: 8400\tTrain acc: 0.97527\tTest acc: 0.96750\n",
      "step: 9600\tTrain acc: 0.97693\tTest acc: 0.96740\n",
      "step: 10800\tTrain acc: 0.97902\tTest acc: 0.97020\n",
      "step: 12000\tTrain acc: 0.98222\tTest acc: 0.97200\n",
      "step: 13200\tTrain acc: 0.98252\tTest acc: 0.97110\n",
      "step: 14400\tTrain acc: 0.98295\tTest acc: 0.97160\n",
      "step: 15600\tTrain acc: 0.98460\tTest acc: 0.97310\n",
      "step: 16800\tTrain acc: 0.98652\tTest acc: 0.97250\n",
      "step: 18000\tTrain acc: 0.98750\tTest acc: 0.97280\n"
     ]
    }
   ],
   "source": [
    "import sys, os\n",
    "sys.path.append(os.pardir)\n",
    "import numpy as np\n",
    "from dataset.mnist import load_mnist\n",
    "import import_ipynb\n",
    "from BackPropagation_TwoLayerNet import TwoLayerNet\n",
    "\n",
    "(x_train, t_train), (x_test, t_test) = load_mnist(normalize=True, one_hot_label=True)\n",
    "network = TwoLayerNet(input_size=784, hidden_size=50, output_size=10)\n",
    "\n",
    "iters_num = 18001\n",
    "train_size = x_train.shape[0]\n",
    "batch_size = 50                     #배치크기 50\n",
    "learning_rate = 0.1\n",
    "\n",
    "train_loss_list = []\n",
    "train_acc_list = []\n",
    "test_acc_list = []\n",
    "\n",
    "iter_per_epoch = max(train_size / batch_size, 1)\n",
    "\n",
    "for i in range(iters_num):\n",
    "    batch_mask = np.random.choice(train_size, batch_size)\n",
    "    x_batch = x_train[batch_mask]\n",
    "    t_batch = t_train[batch_mask]\n",
    "    \n",
    "    grad = network.gradient(x_batch, t_batch)\n",
    "    \n",
    "    for key in ('W1', 'b1', 'W2', 'b2'):\n",
    "        network.params[key] -= learning_rate * grad[key]\n",
    "    \n",
    "    loss = network.loss(x_batch, t_batch)\n",
    "    train_loss_list.append(loss)\n",
    "    \n",
    "    if i % iter_per_epoch == 0:\n",
    "        train_acc = network.accuracy(x_train, t_train)\n",
    "        test_acc = network.accuracy(x_test, t_test)\n",
    "        train_acc_list.append(train_acc)\n",
    "        test_acc_list.append(test_acc)\n",
    "        print('step: {:4d}\\tTrain acc: {:.5f}\\tTest acc: {:.5f}'.format(i, train_acc, test_acc))"
   ]
  },
  {
   "cell_type": "code",
   "execution_count": null,
   "metadata": {},
   "outputs": [],
   "source": []
  }
 ],
 "metadata": {
  "kernelspec": {
   "display_name": "Python 3",
   "language": "python",
   "name": "python3"
  },
  "language_info": {
   "codemirror_mode": {
    "name": "ipython",
    "version": 3
   },
   "file_extension": ".py",
   "mimetype": "text/x-python",
   "name": "python",
   "nbconvert_exporter": "python",
   "pygments_lexer": "ipython3",
   "version": "3.8.3"
  }
 },
 "nbformat": 4,
 "nbformat_minor": 4
}
