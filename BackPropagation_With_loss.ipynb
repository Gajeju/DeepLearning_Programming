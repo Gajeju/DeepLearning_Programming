{
 "cells": [
  {
   "cell_type": "code",
   "execution_count": 11,
   "metadata": {},
   "outputs": [
    {
     "name": "stdout",
     "output_type": "stream",
     "text": [
      "step:    0\tTrain acc: 0.14643\tTest acc: 0.14890\tTrain loss: 2.30142\n",
      "step:  600\tTrain acc: 0.90538\tTest acc: 0.90790\tTrain loss: 0.26322\n",
      "step: 1200\tTrain acc: 0.91955\tTest acc: 0.92310\tTrain loss: 0.39356\n",
      "step: 1800\tTrain acc: 0.93605\tTest acc: 0.93710\tTrain loss: 0.21068\n",
      "step: 2400\tTrain acc: 0.94208\tTest acc: 0.94140\tTrain loss: 0.20347\n",
      "step: 3000\tTrain acc: 0.94995\tTest acc: 0.94660\tTrain loss: 0.21730\n",
      "step: 3600\tTrain acc: 0.95437\tTest acc: 0.94980\tTrain loss: 0.14068\n",
      "step: 4200\tTrain acc: 0.95873\tTest acc: 0.95420\tTrain loss: 0.06368\n",
      "step: 4800\tTrain acc: 0.96148\tTest acc: 0.95630\tTrain loss: 0.08713\n",
      "step: 5400\tTrain acc: 0.96412\tTest acc: 0.95790\tTrain loss: 0.12652\n",
      "step: 6000\tTrain acc: 0.96803\tTest acc: 0.96280\tTrain loss: 0.13446\n",
      "step: 6600\tTrain acc: 0.97028\tTest acc: 0.96360\tTrain loss: 0.10930\n",
      "step: 7200\tTrain acc: 0.97195\tTest acc: 0.96540\tTrain loss: 0.10623\n",
      "step: 7800\tTrain acc: 0.97195\tTest acc: 0.96480\tTrain loss: 0.04184\n",
      "step: 8400\tTrain acc: 0.97310\tTest acc: 0.96550\tTrain loss: 0.09101\n",
      "step: 9000\tTrain acc: 0.97668\tTest acc: 0.96700\tTrain loss: 0.03765\n",
      "step: 9600\tTrain acc: 0.97640\tTest acc: 0.96820\tTrain loss: 0.08289\n"
     ]
    }
   ],
   "source": [
    "import sys, os\n",
    "sys.path.append(os.pardir)\n",
    "import numpy as np\n",
    "from dataset.mnist import load_mnist\n",
    "import import_ipynb\n",
    "from BackPropagation_TwoLayerNet import TwoLayerNet\n",
    "\n",
    "(x_train, t_train), (x_test, t_test) = load_mnist(normalize=True, one_hot_label=True)\n",
    "network = TwoLayerNet(input_size=784, hidden_size=50, output_size=10)\n",
    "\n",
    "iters_num = 10000\n",
    "train_size = x_train.shape[0]\n",
    "batch_size = 100\n",
    "learning_rate = 0.1\n",
    "\n",
    "train_loss_list = []\n",
    "train_acc_list = []\n",
    "test_acc_list = []\n",
    "\n",
    "iter_per_epoch = max(train_size / batch_size, 1)\n",
    "\n",
    "for i in range(iters_num):\n",
    "    batch_mask = np.random.choice(train_size, batch_size)\n",
    "    x_batch = x_train[batch_mask]\n",
    "    t_batch = t_train[batch_mask]\n",
    "    \n",
    "    grad = network.gradient(x_batch, t_batch)\n",
    "    \n",
    "    for key in ('W1', 'b1', 'W2', 'b2'):\n",
    "        network.params[key] -= learning_rate * grad[key]\n",
    "    \n",
    "    loss = network.loss(x_batch, t_batch)\n",
    "    train_loss_list.append(loss)\n",
    "    \n",
    "    if i % iter_per_epoch == 0:\n",
    "        train_acc = network.accuracy(x_train, t_train)\n",
    "        test_acc = network.accuracy(x_test, t_test)\n",
    "        train_acc_list.append(train_acc)\n",
    "        test_acc_list.append(test_acc)\n",
    "        print('step: {:4d}\\tTrain acc: {:.5f}\\tTest acc: {:.5f}\\tTrain loss: {:.5f}'.format(i, train_acc, test_acc, loss))"
   ]
  },
  {
   "cell_type": "code",
   "execution_count": null,
   "metadata": {},
   "outputs": [],
   "source": []
  }
 ],
 "metadata": {
  "kernelspec": {
   "display_name": "Python 3",
   "language": "python",
   "name": "python3"
  },
  "language_info": {
   "codemirror_mode": {
    "name": "ipython",
    "version": 3
   },
   "file_extension": ".py",
   "mimetype": "text/x-python",
   "name": "python",
   "nbconvert_exporter": "python",
   "pygments_lexer": "ipython3",
   "version": "3.8.3"
  }
 },
 "nbformat": 4,
 "nbformat_minor": 4
}
