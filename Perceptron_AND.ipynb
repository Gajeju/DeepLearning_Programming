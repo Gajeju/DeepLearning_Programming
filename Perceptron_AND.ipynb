{
 "cells": [
  {
   "cell_type": "code",
   "execution_count": 8,
   "metadata": {},
   "outputs": [
    {
     "name": "stdout",
     "output_type": "stream",
     "text": [
      "AND : \n",
      "(0, 0 -> 0)\n",
      "(1, 0 -> 0)\n",
      "(0, 1 -> 0)\n",
      "(1, 1 -> 1)\n"
     ]
    }
   ],
   "source": [
    "import numpy as np\n",
    "\n",
    "def AND(x1, x2):\n",
    "    x = np.array([x1, x2])\n",
    "    w = np.array([0.5, 0.5])\n",
    "    b = -0.7\n",
    "    tmp = np.sum(w*x) + b\n",
    "    if tmp <= 0:\n",
    "        return 0\n",
    "    else:\n",
    "        return 1\n",
    "    \n",
    "inputs = [(0, 0), (1, 0), (0, 1), (1, 1)]\n",
    "\n",
    "print ('AND : ')\n",
    "for x1, x2 in inputs:\n",
    "    y = AND(x1, x2)\n",
    "    print('({x1}, {x2} -> {y})'.format(x1=x1, x2=x2, y=y))"
   ]
  }
 ],
 "metadata": {
  "kernelspec": {
   "display_name": "Python 3",
   "language": "python",
   "name": "python3"
  },
  "language_info": {
   "codemirror_mode": {
    "name": "ipython",
    "version": 3
   },
   "file_extension": ".py",
   "mimetype": "text/x-python",
   "name": "python",
   "nbconvert_exporter": "python",
   "pygments_lexer": "ipython3",
   "version": "3.8.5"
  }
 },
 "nbformat": 4,
 "nbformat_minor": 4
}
