{
 "cells": [
  {
   "cell_type": "code",
   "execution_count": 24,
   "metadata": {},
   "outputs": [],
   "source": [
    "class MulLayer:\n",
    "    def __init__(self):  #역전파시 x,y 변수가 필요하기 때문에 클래스 맴버에 저장\n",
    "        self.x = None\n",
    "        self.y = None\n",
    "    \n",
    "    def forward(self, x, y):\n",
    "        self.x = x\n",
    "        self.y = y\n",
    "        out = x * y\n",
    "        \n",
    "        return out\n",
    "    \n",
    "    def backward(self, dout):\n",
    "        dx = dout * self.y\n",
    "        dy = dout * self.x\n",
    "        \n",
    "        return dx, dy\n",
    "    \n",
    "class AddLayer:\n",
    "    def __init_(self):\n",
    "        pass\n",
    "    \n",
    "    def forward(self, x, y):\n",
    "        out = x + y\n",
    "        return out\n",
    "    \n",
    "    def backward(self, dout):\n",
    "        dx = dout * 1\n",
    "        dy = dout * 1\n",
    "        return dx, dy"
   ]
  },
  {
   "cell_type": "code",
   "execution_count": 25,
   "metadata": {},
   "outputs": [],
   "source": [
    "apple = 1500\n",
    "apple_num = 3\n",
    "orange = 1000\n",
    "orange_num = 5\n",
    "cigarette = 5000\n",
    "cigarette_num = 2\n",
    "apple_orange_tax = 1.1\n",
    "cigarette_tax = 1.2\n",
    "\n",
    "#계층\n",
    "mul_apple_layer = MulLayer()\n",
    "mul_orange_layer = MulLayer()\n",
    "mul_cigarette_layer = MulLayer()\n",
    "add_apple_orange_layer = AddLayer()\n",
    "mul_apple_orange_tax_layer = MulLayer()\n",
    "mul_cigarette_tax_layer = MulLayer()\n",
    "add_all_layer = AddLayer()\n",
    "\n",
    "#순전파\n",
    "apple_price = mul_apple_layer.forward(apple, apple_num) #사과 가격 * 개수\n",
    "orange_price = mul_orange_layer.forward(orange, orange_num) #오랜지 가격 * 개수\n",
    "apple_orange_price = add_apple_orange_layer.forward(apple_price, orange_price) #사과 + 오랜지\n",
    "apple_orange_price_tax = mul_apple_orange_tax_layer.forward(apple_orange_price, apple_orange_tax) #(사과 + 오랜지) * 세금\n",
    "\n",
    "cigarette_price = mul_cigarette_layer.forward(cigarette, cigarette_num) #담배 가격 * 개수 \n",
    "cigarette_price_tax = mul_cigarette_tax_layer.forward(cigarette_price, cigarette_tax) #담배 * 세금\n",
    "\n",
    "total_price = add_all_layer.forward(apple_orange_price_tax, cigarette_price_tax) #(사과 + 오랜지) + 담배\n",
    "\n",
    "#역전파\n",
    "dtotal_price = 1\n",
    "\n",
    "dapple_orange_price_tax, dcigarette_price_tax = add_all_layer.backward(dtotal_price) #(사과 + 오랜지) + 담배\n",
    "\n",
    "dcigarette_price, dcigarette_tax = mul_cigarette_tax_layer.backward(dcigarette_price_tax) #담배 * 세금\n",
    "dcigarette, dcigarette_num = mul_cigarette_layer.backward(dcigarette_price) #담배 가격 * 개수 \n",
    "\n",
    "dapple_orange_price, dapple_orange_tax = mul_apple_orange_tax_layer.backward(dapple_orange_price_tax)  #(사과 + 오랜지) * 세금\n",
    "dapple_price, dorange_price = add_apple_orange_layer.backward(dapple_orange_price) #사과 + 오랜지\n",
    "dorange, dorange_num = mul_orange_layer.backward(dorange_price) #오랜지 가격 * 개수\n",
    "dapple, dapple_num = mul_apple_layer.backward(dapple_price) #사과 가격 * 개수\n",
    "\n"
   ]
  },
  {
   "cell_type": "code",
   "execution_count": 30,
   "metadata": {},
   "outputs": [
    {
     "name": "stdout",
     "output_type": "stream",
     "text": [
      "------------------- Forward propagation -------------------\n",
      "apple_price : 4500\n",
      "orange_price : 5000\n",
      "apple_orange_price : 9500\n",
      "apple_orange_price_tax : 10450.0\n",
      "cigarette_price : 10000\n",
      "cigarette_price_tax : 12000.0\n",
      "total_price : 22450.0\n"
     ]
    }
   ],
   "source": [
    "print('------------------- Forward propagation -------------------')\n",
    "print('apple_price :',apple_price)\n",
    "print('orange_price :',orange_price)\n",
    "print('apple_orange_price :',apple_orange_price)\n",
    "print('apple_orange_price_tax :',apple_orange_price_tax)\n",
    "print('cigarette_price :',cigarette_price)\n",
    "print('cigarette_price_tax :',cigarette_price_tax)\n",
    "print('total_price :',total_price)\n",
    "\n"
   ]
  },
  {
   "cell_type": "code",
   "execution_count": 31,
   "metadata": {},
   "outputs": [
    {
     "name": "stdout",
     "output_type": "stream",
     "text": [
      "------------------- Back propagation -------------------\n",
      "dapple : 3.3000000000000003\n",
      "dapple_num : 1650.0000000000002\n",
      "dorange : 5.5\n",
      "dorange_num : 1100.0\n",
      "dapple_price : 1.1\n",
      "dorange_price : 1.1\n",
      "dapple_orange_price : 1.1\n",
      "dapple_orange_tax : 9500\n",
      "dcigarette : 2.4\n",
      "dcigarette_num : 6000.0\n",
      "dcigarette_price : 1.2\n",
      "dcigarette_tax : 10000\n",
      "dapple_orange_price_tax : 1\n",
      "dcigarette_price_tax : 1\n"
     ]
    }
   ],
   "source": [
    "print('------------------- Back propagation -------------------')\n",
    "print('dapple :', dapple)\n",
    "print('dapple_num :', dapple_num)\n",
    "print('dorange :', dorange)\n",
    "print('dorange_num :', dorange_num)\n",
    "print('dapple_price :', dapple_price)\n",
    "print('dorange_price :', dorange_price)\n",
    "print('dapple_orange_price :', dapple_orange_price)\n",
    "print('dapple_orange_tax :', dapple_orange_tax)\n",
    "\n",
    "print('dcigarette :', dcigarette)\n",
    "print('dcigarette_num :', dcigarette_num)\n",
    "print('dcigarette_price :', dcigarette_price)\n",
    "print('dcigarette_tax :', dcigarette_tax)\n",
    "\n",
    "print('dapple_orange_price_tax :', dapple_orange_price_tax)\n",
    "print('dcigarette_price_tax :', dcigarette_price_tax)\n"
   ]
  },
  {
   "cell_type": "code",
   "execution_count": null,
   "metadata": {},
   "outputs": [],
   "source": []
  }
 ],
 "metadata": {
  "kernelspec": {
   "display_name": "Python 3",
   "language": "python",
   "name": "python3"
  },
  "language_info": {
   "codemirror_mode": {
    "name": "ipython",
    "version": 3
   },
   "file_extension": ".py",
   "mimetype": "text/x-python",
   "name": "python",
   "nbconvert_exporter": "python",
   "pygments_lexer": "ipython3",
   "version": "3.8.3"
  }
 },
 "nbformat": 4,
 "nbformat_minor": 4
}
